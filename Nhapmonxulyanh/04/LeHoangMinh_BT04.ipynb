{
 "cells": [
  {
   "cell_type": "code",
   "execution_count": 1,
   "id": "7a1a6636",
   "metadata": {},
   "outputs": [],
   "source": [
    "import cv2"
   ]
  },
  {
   "cell_type": "code",
   "execution_count": 2,
   "id": "e2b25427",
   "metadata": {},
   "outputs": [],
   "source": [
    "# Đọc ảnh màu vào biến img\n",
    "img = cv2.imread('cat.jpg')"
   ]
  },
  {
   "cell_type": "code",
   "execution_count": 3,
   "id": "d1bb4508",
   "metadata": {},
   "outputs": [
    {
     "name": "stdout",
     "output_type": "stream",
     "text": [
      "Chiều dài: 463 pixels\n",
      "Chiều rộng: 703 pixels\n"
     ]
    }
   ],
   "source": [
    "# Hiển thị chiều dài và chiều rộng của ảnh img\n",
    "height, width = img.shape[:2]\n",
    "print(f\"Chiều dài: {height} pixels\")\n",
    "print(f\"Chiều rộng: {width} pixels\")"
   ]
  },
  {
   "cell_type": "code",
   "execution_count": 4,
   "id": "9eb6c68d",
   "metadata": {},
   "outputs": [],
   "source": [
    "cv2.imshow('Original Image', img)\n",
    "cv2.waitKey(0)\n",
    "cv2.destroyAllWindows()"
   ]
  },
  {
   "cell_type": "code",
   "execution_count": 5,
   "id": "23aaba64",
   "metadata": {},
   "outputs": [],
   "source": [
    "# Tách các kênh BGR của img\n",
    "blue_channel, green_channel, red_channel = cv2.split(img)"
   ]
  },
  {
   "cell_type": "code",
   "execution_count": 6,
   "id": "4a6fffd5",
   "metadata": {},
   "outputs": [],
   "source": [
    "# Tạo ảnh mới newimg bằng cách đảo vị trí các kênh\n",
    "newimg = cv2.merge([red_channel, green_channel, blue_channel])"
   ]
  },
  {
   "cell_type": "code",
   "execution_count": 7,
   "id": "26bbfee9",
   "metadata": {},
   "outputs": [],
   "source": [
    "# Chuyển sang định dạng jpg và hiển thị ảnh mới newimg\n",
    "cv2.imwrite('new_image.jpg', newimg)\n",
    "cv2.imshow('New Image', newimg)\n",
    "cv2.waitKey(0)\n",
    "cv2.destroyAllWindows()"
   ]
  },
  {
   "cell_type": "code",
   "execution_count": null,
   "id": "79b77fa5",
   "metadata": {},
   "outputs": [],
   "source": []
  }
 ],
 "metadata": {
  "kernelspec": {
   "display_name": "Python 3 (ipykernel)",
   "language": "python",
   "name": "python3"
  },
  "language_info": {
   "codemirror_mode": {
    "name": "ipython",
    "version": 3
   },
   "file_extension": ".py",
   "mimetype": "text/x-python",
   "name": "python",
   "nbconvert_exporter": "python",
   "pygments_lexer": "ipython3",
   "version": "3.11.5"
  }
 },
 "nbformat": 4,
 "nbformat_minor": 5
}

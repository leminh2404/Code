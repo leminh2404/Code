{
 "cells": [
  {
   "cell_type": "code",
   "execution_count": 1,
   "id": "5cb9dc6c",
   "metadata": {},
   "outputs": [],
   "source": [
    "import cv2\n",
    "import numpy as np"
   ]
  },
  {
   "cell_type": "code",
   "execution_count": 97,
   "id": "fcb1385c",
   "metadata": {},
   "outputs": [],
   "source": [
    "# Đọc ảnh từ tệp jpg\n",
    "rgb_image = cv2.imread('cat.jpg')"
   ]
  },
  {
   "cell_type": "code",
   "execution_count": 69,
   "id": "29ae1409",
   "metadata": {},
   "outputs": [
    {
     "data": {
      "text/plain": [
       "-1"
      ]
     },
     "execution_count": 69,
     "metadata": {},
     "output_type": "execute_result"
    }
   ],
   "source": [
    "# Kiểm tra xem ảnh có tồn tại không\n",
    "if rgb_image is None:\n",
    "    print(\"Không thể đọc ảnh. Hãy đảm bảo rằng đường dẫn và tên tệp là chính xác.\")\n",
    "    exit()\n",
    "\n",
    "# Hiển thị ảnh trên cửa sổ mới\n",
    "cv2.imshow('Original Image', rgb_image)\n",
    "cv2.waitKey(0)"
   ]
  },
  {
   "cell_type": "code",
   "execution_count": 62,
   "id": "51eeaacf",
   "metadata": {},
   "outputs": [
    {
     "data": {
      "text/plain": [
       "array([[[ 39,  69,  34],\n",
       "        [ 38,  69,  32],\n",
       "        [ 37,  68,  31],\n",
       "        ...,\n",
       "        [ 39,  90,  40],\n",
       "        [ 41,  91,  43],\n",
       "        [ 43,  93,  45]],\n",
       "\n",
       "       [[ 35,  66,  27],\n",
       "        [ 35,  66,  27],\n",
       "        [ 35,  66,  27],\n",
       "        ...,\n",
       "        [ 41,  92,  42],\n",
       "        [ 41,  92,  42],\n",
       "        [ 42,  93,  43]],\n",
       "\n",
       "       [[ 36,  67,  28],\n",
       "        [ 37,  68,  29],\n",
       "        [ 37,  68,  29],\n",
       "        ...,\n",
       "        [ 42,  93,  43],\n",
       "        [ 42,  93,  43],\n",
       "        [ 42,  94,  41]],\n",
       "\n",
       "       ...,\n",
       "\n",
       "       [[ 14,  53, 122],\n",
       "        [  9,  48, 116],\n",
       "        [ 12,  50, 115],\n",
       "        ...,\n",
       "        [ 50, 138,  72],\n",
       "        [ 47, 138,  69],\n",
       "        [ 47, 139,  68]],\n",
       "\n",
       "       [[ 37,  75, 139],\n",
       "        [ 37,  75, 139],\n",
       "        [ 45,  82, 142],\n",
       "        ...,\n",
       "        [ 48, 136,  70],\n",
       "        [ 48, 136,  70],\n",
       "        [ 48, 137,  68]],\n",
       "\n",
       "       [[ 62, 100, 158],\n",
       "        [ 66, 103, 159],\n",
       "        [ 73, 110, 166],\n",
       "        ...,\n",
       "        [ 48, 134,  70],\n",
       "        [ 48, 135,  69],\n",
       "        [ 48, 135,  69]]], dtype=uint8)"
      ]
     },
     "execution_count": 62,
     "metadata": {},
     "output_type": "execute_result"
    }
   ],
   "source": [
    "# Viết lên ảnh một dòng chữ \"Open CV\"\n",
    "font = cv2.FONT_HERSHEY_SIMPLEX\n",
    "cv2.putText(rgb_image, 'Open CV', (10, 50), font, 1, (255, 255, 255), 2, cv2.LINE_AA)"
   ]
  },
  {
   "cell_type": "code",
   "execution_count": 93,
   "id": "ff2ee496",
   "metadata": {},
   "outputs": [
    {
     "data": {
      "text/plain": [
       "array([[[ 39,  69,  34],\n",
       "        [ 38,  69,  32],\n",
       "        [ 37,  68,  31],\n",
       "        ...,\n",
       "        [ 39,  90,  40],\n",
       "        [ 41,  91,  43],\n",
       "        [ 43,  93,  45]],\n",
       "\n",
       "       [[ 35,  66,  27],\n",
       "        [ 35,  66,  27],\n",
       "        [ 35,  66,  27],\n",
       "        ...,\n",
       "        [ 41,  92,  42],\n",
       "        [ 41,  92,  42],\n",
       "        [ 42,  93,  43]],\n",
       "\n",
       "       [[ 36,  67,  28],\n",
       "        [ 37,  68,  29],\n",
       "        [ 37,  68,  29],\n",
       "        ...,\n",
       "        [ 42,  93,  43],\n",
       "        [ 42,  93,  43],\n",
       "        [ 42,  94,  41]],\n",
       "\n",
       "       ...,\n",
       "\n",
       "       [[ 14,  53, 122],\n",
       "        [  9,  48, 116],\n",
       "        [ 12,  50, 115],\n",
       "        ...,\n",
       "        [ 50, 138,  72],\n",
       "        [ 47, 138,  69],\n",
       "        [ 47, 139,  68]],\n",
       "\n",
       "       [[ 37,  75, 139],\n",
       "        [ 37,  75, 139],\n",
       "        [ 45,  82, 142],\n",
       "        ...,\n",
       "        [ 48, 136,  70],\n",
       "        [ 48, 136,  70],\n",
       "        [ 48, 137,  68]],\n",
       "\n",
       "       [[ 62, 100, 158],\n",
       "        [ 66, 103, 159],\n",
       "        [ 73, 110, 166],\n",
       "        ...,\n",
       "        [ 48, 134,  70],\n",
       "        [ 48, 135,  69],\n",
       "        [ 48, 135,  69]]], dtype=uint8)"
      ]
     },
     "execution_count": 93,
     "metadata": {},
     "output_type": "execute_result"
    }
   ],
   "source": [
    "font = cv2.FONT_HERSHEY_SIMPLEX\n",
    "cv2.putText(rgb_image, 'Lê Hoàng Minh', (10, 100), font, 1, (255, 255, 255), 1, cv2.LINE_AA)"
   ]
  },
  {
   "cell_type": "code",
   "execution_count": 94,
   "id": "c0d122e7",
   "metadata": {},
   "outputs": [
    {
     "data": {
      "text/plain": [
       "-1"
      ]
     },
     "execution_count": 94,
     "metadata": {},
     "output_type": "execute_result"
    }
   ],
   "source": [
    "# Hiển thị ảnh với dòng chữ\n",
    "cv2.imshow('Image with Text', rgb_image)\n",
    "cv2.waitKey(0)"
   ]
  },
  {
   "cell_type": "code",
   "execution_count": 12,
   "id": "079b76cc",
   "metadata": {},
   "outputs": [
    {
     "data": {
      "text/plain": [
       "True"
      ]
     },
     "execution_count": 12,
     "metadata": {},
     "output_type": "execute_result"
    }
   ],
   "source": [
    "# Ghi ảnh mới ra tệp\n",
    "cv2.imwrite('imagewithOPENCV-Text.jpg', rgb_image)"
   ]
  },
  {
   "cell_type": "code",
   "execution_count": 10,
   "id": "c8984733",
   "metadata": {},
   "outputs": [],
   "source": [
    "colors = {'blue': (255, 0, 0), 'green': (0, 255, 0), 'red': (0, 0, 255), 'yellow':\n",
    "(0, 255, 255), 'magenta': (255, 0, 255), 'cyan': (255, 255, 0), 'white': (255, 255,\n",
    "255), 'black': (0, 0, 0), 'gray': (125, 125, 125), 'rand': np.random.randint(0,\n",
    "high=256, size=(3,)).tolist(), 'dark_gray': (50, 50, 50), 'light_gray': (220, 220,\n",
    "220)}"
   ]
  },
  {
   "cell_type": "code",
   "execution_count": 11,
   "id": "140ac662",
   "metadata": {},
   "outputs": [],
   "source": [
    "rgb_image = np.zeros((500, 500, 3), dtype=\"uint8\")"
   ]
  },
  {
   "cell_type": "code",
   "execution_count": 29,
   "id": "17ce7084",
   "metadata": {},
   "outputs": [],
   "source": [
    "(height, width, division) = rgb_image.shape"
   ]
  },
  {
   "cell_type": "code",
   "execution_count": 27,
   "id": "f77cce45",
   "metadata": {},
   "outputs": [
    {
     "name": "stdout",
     "output_type": "stream",
     "text": [
      "(463, 703, 3)\n"
     ]
    }
   ],
   "source": [
    "print(i)"
   ]
  },
  {
   "cell_type": "code",
   "execution_count": 104,
   "id": "739f1e53",
   "metadata": {},
   "outputs": [],
   "source": [
    "separation = 40\n",
    "for key in colors:\n",
    "    cv2.line(rgb_image, (0, separation), (width, separation), colors[key], 10)\n",
    "    separation += 40"
   ]
  },
  {
   "cell_type": "code",
   "execution_count": 105,
   "id": "8a19222d",
   "metadata": {},
   "outputs": [
    {
     "data": {
      "text/plain": [
       "-1"
      ]
     },
     "execution_count": 105,
     "metadata": {},
     "output_type": "execute_result"
    }
   ],
   "source": [
    "cv2.imshow('Image with Text', rgb_image)\n",
    "cv2.waitKey(0)"
   ]
  },
  {
   "cell_type": "code",
   "execution_count": 52,
   "id": "6830c248",
   "metadata": {},
   "outputs": [
    {
     "data": {
      "text/plain": [
       "array([[[ 39,  69,  34],\n",
       "        [ 38,  69,  32],\n",
       "        [ 37,  68,  31],\n",
       "        ...,\n",
       "        [ 39,  90,  40],\n",
       "        [ 41,  91,  43],\n",
       "        [ 43,  93,  45]],\n",
       "\n",
       "       [[ 35,  66,  27],\n",
       "        [ 35,  66,  27],\n",
       "        [ 35,  66,  27],\n",
       "        ...,\n",
       "        [ 41,  92,  42],\n",
       "        [ 41,  92,  42],\n",
       "        [ 42,  93,  43]],\n",
       "\n",
       "       [[ 36,  67,  28],\n",
       "        [ 37,  68,  29],\n",
       "        [ 37,  68,  29],\n",
       "        ...,\n",
       "        [ 42,  93,  43],\n",
       "        [ 42,  93,  43],\n",
       "        [ 42,  94,  41]],\n",
       "\n",
       "       ...,\n",
       "\n",
       "       [[ 14,  53, 122],\n",
       "        [  9,  48, 116],\n",
       "        [ 12,  50, 115],\n",
       "        ...,\n",
       "        [ 50, 138,  72],\n",
       "        [ 47, 138,  69],\n",
       "        [ 47, 139,  68]],\n",
       "\n",
       "       [[ 37,  75, 139],\n",
       "        [ 37,  75, 139],\n",
       "        [ 45,  82, 142],\n",
       "        ...,\n",
       "        [ 48, 136,  70],\n",
       "        [ 48, 136,  70],\n",
       "        [ 48, 137,  68]],\n",
       "\n",
       "       [[ 62, 100, 158],\n",
       "        [ 66, 103, 159],\n",
       "        [ 73, 110, 166],\n",
       "        ...,\n",
       "        [ 48, 134,  70],\n",
       "        [ 48, 135,  69],\n",
       "        [ 48, 135,  69]]], dtype=uint8)"
      ]
     },
     "execution_count": 52,
     "metadata": {},
     "output_type": "execute_result"
    }
   ],
   "source": [
    "cv2.line(rgb_image, (0, 400), (400, 0), colors['blue'], 1)"
   ]
  },
  {
   "cell_type": "code",
   "execution_count": 96,
   "id": "d2af04fe",
   "metadata": {},
   "outputs": [
    {
     "data": {
      "text/plain": [
       "-1"
      ]
     },
     "execution_count": 96,
     "metadata": {},
     "output_type": "execute_result"
    }
   ],
   "source": [
    "cv2.imshow('Original Image', rgb_image)\n",
    "cv2.waitKey(0)"
   ]
  },
  {
   "cell_type": "code",
   "execution_count": 51,
   "id": "65a1149f",
   "metadata": {},
   "outputs": [
    {
     "data": {
      "text/plain": [
       "array([[[ 39,  69,  34],\n",
       "        [ 38,  69,  32],\n",
       "        [ 37,  68,  31],\n",
       "        ...,\n",
       "        [ 39,  90,  40],\n",
       "        [ 41,  91,  43],\n",
       "        [ 43,  93,  45]],\n",
       "\n",
       "       [[ 35,  66,  27],\n",
       "        [ 35,  66,  27],\n",
       "        [ 35,  66,  27],\n",
       "        ...,\n",
       "        [ 41,  92,  42],\n",
       "        [ 41,  92,  42],\n",
       "        [ 42,  93,  43]],\n",
       "\n",
       "       [[ 36,  67,  28],\n",
       "        [ 37,  68,  29],\n",
       "        [ 37,  68,  29],\n",
       "        ...,\n",
       "        [ 42,  93,  43],\n",
       "        [ 42,  93,  43],\n",
       "        [ 42,  94,  41]],\n",
       "\n",
       "       ...,\n",
       "\n",
       "       [[ 14,  53, 122],\n",
       "        [  9,  48, 116],\n",
       "        [ 12,  50, 115],\n",
       "        ...,\n",
       "        [ 50, 138,  72],\n",
       "        [ 47, 138,  69],\n",
       "        [ 47, 139,  68]],\n",
       "\n",
       "       [[ 37,  75, 139],\n",
       "        [ 37,  75, 139],\n",
       "        [ 45,  82, 142],\n",
       "        ...,\n",
       "        [ 48, 136,  70],\n",
       "        [ 48, 136,  70],\n",
       "        [ 48, 137,  68]],\n",
       "\n",
       "       [[ 62, 100, 158],\n",
       "        [ 66, 103, 159],\n",
       "        [ 73, 110, 166],\n",
       "        ...,\n",
       "        [ 48, 134,  70],\n",
       "        [ 48, 135,  69],\n",
       "        [ 48, 135,  69]]], dtype=uint8)"
      ]
     },
     "execution_count": 51,
     "metadata": {},
     "output_type": "execute_result"
    }
   ],
   "source": [
    "cv2.line(rgb_image, (400, 0), (0, 400), colors['blue'], 1)"
   ]
  },
  {
   "cell_type": "code",
   "execution_count": 103,
   "id": "23e6cdb5",
   "metadata": {},
   "outputs": [
    {
     "data": {
      "text/plain": [
       "-1"
      ]
     },
     "execution_count": 103,
     "metadata": {},
     "output_type": "execute_result"
    }
   ],
   "source": [
    "cv2.imshow('Original Image', rgb_image)\n",
    "cv2.waitKey(0)"
   ]
  },
  {
   "cell_type": "code",
   "execution_count": 102,
   "id": "67c226cc",
   "metadata": {},
   "outputs": [
    {
     "data": {
      "text/plain": [
       "array([[[  0, 255,   0],\n",
       "        [  0, 255,   0],\n",
       "        [  0, 255,   0],\n",
       "        ...,\n",
       "        [ 39,  90,  40],\n",
       "        [ 41,  91,  43],\n",
       "        [ 43,  93,  45]],\n",
       "\n",
       "       [[  0, 255,   0],\n",
       "        [  0, 255,   0],\n",
       "        [  0, 255,   0],\n",
       "        ...,\n",
       "        [ 41,  92,  42],\n",
       "        [ 41,  92,  42],\n",
       "        [ 42,  93,  43]],\n",
       "\n",
       "       [[  0, 255,   0],\n",
       "        [  0, 255,   0],\n",
       "        [  0, 255,   0],\n",
       "        ...,\n",
       "        [ 42,  93,  43],\n",
       "        [ 42,  93,  43],\n",
       "        [ 42,  94,  41]],\n",
       "\n",
       "       ...,\n",
       "\n",
       "       [[ 14,  53, 122],\n",
       "        [  9,  48, 116],\n",
       "        [ 12,  50, 115],\n",
       "        ...,\n",
       "        [  0, 255,   0],\n",
       "        [  0, 255,   0],\n",
       "        [  0, 255,   0]],\n",
       "\n",
       "       [[ 37,  75, 139],\n",
       "        [ 37,  75, 139],\n",
       "        [ 45,  82, 142],\n",
       "        ...,\n",
       "        [  0, 255,   0],\n",
       "        [  0, 255,   0],\n",
       "        [  0, 255,   0]],\n",
       "\n",
       "       [[ 62, 100, 158],\n",
       "        [ 66, 103, 159],\n",
       "        [ 73, 110, 166],\n",
       "        ...,\n",
       "        [  0, 255,   0],\n",
       "        [  0, 255,   0],\n",
       "        [  0, 255,   0]]], dtype=uint8)"
      ]
     },
     "execution_count": 102,
     "metadata": {},
     "output_type": "execute_result"
    }
   ],
   "source": [
    "cv2.line(rgb_image, (0, 0), (width, height), colors['green'], 3)\n",
    "cv2.line(rgb_image, (0, 400), (400, 0), colors['blue'], 10)\n",
    "cv2.line(rgb_image, (200, 0), (200, 400), colors['red'], 3)\n",
    "cv2.line(rgb_image, (0, 200), (400, 200), colors['yellow'], 10)"
   ]
  },
  {
   "cell_type": "code",
   "execution_count": 76,
   "id": "3ff79d98",
   "metadata": {},
   "outputs": [],
   "source": [
    "rgb_image.fill(255)"
   ]
  },
  {
   "cell_type": "code",
   "execution_count": 83,
   "id": "bf81e3d9",
   "metadata": {},
   "outputs": [
    {
     "ename": "AttributeError",
     "evalue": "'numpy.ndarray' object has no attribute 'show'",
     "output_type": "error",
     "traceback": [
      "\u001b[1;31m---------------------------------------------------------------------------\u001b[0m",
      "\u001b[1;31mAttributeError\u001b[0m                            Traceback (most recent call last)",
      "Cell \u001b[1;32mIn[83], line 1\u001b[0m\n\u001b[1;32m----> 1\u001b[0m rgb_image\u001b[38;5;241m.\u001b[39mshow()\n",
      "\u001b[1;31mAttributeError\u001b[0m: 'numpy.ndarray' object has no attribute 'show'"
     ]
    }
   ],
   "source": [
    "rgb_image.show()"
   ]
  },
  {
   "cell_type": "code",
   "execution_count": 100,
   "id": "311577fe",
   "metadata": {},
   "outputs": [
    {
     "data": {
      "text/plain": [
       "array([[[ 39,  69,  34],\n",
       "        [ 38,  69,  32],\n",
       "        [ 37,  68,  31],\n",
       "        ...,\n",
       "        [ 39,  90,  40],\n",
       "        [ 41,  91,  43],\n",
       "        [ 43,  93,  45]],\n",
       "\n",
       "       [[ 35,  66,  27],\n",
       "        [ 35,  66,  27],\n",
       "        [ 35,  66,  27],\n",
       "        ...,\n",
       "        [ 41,  92,  42],\n",
       "        [ 41,  92,  42],\n",
       "        [ 42,  93,  43]],\n",
       "\n",
       "       [[ 36,  67,  28],\n",
       "        [ 37,  68,  29],\n",
       "        [ 37,  68,  29],\n",
       "        ...,\n",
       "        [ 42,  93,  43],\n",
       "        [ 42,  93,  43],\n",
       "        [ 42,  94,  41]],\n",
       "\n",
       "       ...,\n",
       "\n",
       "       [[ 14,  53, 122],\n",
       "        [  9,  48, 116],\n",
       "        [ 12,  50, 115],\n",
       "        ...,\n",
       "        [ 50, 138,  72],\n",
       "        [ 47, 138,  69],\n",
       "        [ 47, 139,  68]],\n",
       "\n",
       "       [[ 37,  75, 139],\n",
       "        [ 37,  75, 139],\n",
       "        [ 45,  82, 142],\n",
       "        ...,\n",
       "        [ 48, 136,  70],\n",
       "        [ 48, 136,  70],\n",
       "        [ 48, 137,  68]],\n",
       "\n",
       "       [[ 62, 100, 158],\n",
       "        [ 66, 103, 159],\n",
       "        [ 73, 110, 166],\n",
       "        ...,\n",
       "        [ 48, 134,  70],\n",
       "        [ 48, 135,  69],\n",
       "        [ 48, 135,  69]]], dtype=uint8)"
      ]
     },
     "execution_count": 100,
     "metadata": {},
     "output_type": "execute_result"
    }
   ],
   "source": [
    "rgb_image = cv2.imread('cat.jpg')\n",
    "cv2.rectangle(rgb_image, (10, 50), (100, 300), colors['green'], 3)\n",
    "cv2.rectangle(rgb_image, (80, 50), (130, 300), colors['blue'], -1)\n",
    "cv2.rectangle(rgb_image, (150, 50), (350, 100), colors['red'], -1)\n",
    "cv2.rectangle(rgb_image, (150, 150), (350, 300), colors['cyan'], 10)"
   ]
  },
  {
   "cell_type": "code",
   "execution_count": null,
   "id": "4835f1c9",
   "metadata": {},
   "outputs": [],
   "source": []
  }
 ],
 "metadata": {
  "kernelspec": {
   "display_name": "Python 3 (ipykernel)",
   "language": "python",
   "name": "python3"
  },
  "language_info": {
   "codemirror_mode": {
    "name": "ipython",
    "version": 3
   },
   "file_extension": ".py",
   "mimetype": "text/x-python",
   "name": "python",
   "nbconvert_exporter": "python",
   "pygments_lexer": "ipython3",
   "version": "3.11.5"
  }
 },
 "nbformat": 4,
 "nbformat_minor": 5
}

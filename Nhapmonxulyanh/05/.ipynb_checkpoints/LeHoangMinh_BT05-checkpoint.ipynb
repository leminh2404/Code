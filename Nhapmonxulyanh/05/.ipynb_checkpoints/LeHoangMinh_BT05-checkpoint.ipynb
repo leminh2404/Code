{
 "cells": [
  {
   "cell_type": "code",
   "execution_count": 1,
   "id": "9d6e5d52",
   "metadata": {},
   "outputs": [],
   "source": [
    "import cv2\n",
    "import numpy as np\n",
    "from matplotlib import pyplot as plt"
   ]
  },
  {
   "cell_type": "code",
   "execution_count": 2,
   "id": "d44f9e5c",
   "metadata": {},
   "outputs": [],
   "source": [
    "# Câu 1\n",
    "img = cv2.imread('cat.jpg')\n",
    "cv2.imshow('Original Image', img)\n",
    "cv2.waitKey(0)\n",
    "cv2.destroyAllWindows()"
   ]
  },
  {
   "cell_type": "code",
   "execution_count": 3,
   "id": "260f7b3f",
   "metadata": {},
   "outputs": [
    {
     "name": "stdout",
     "output_type": "stream",
     "text": [
      "Chiều cao: 463, Chiều rộng: 703\n"
     ]
    }
   ],
   "source": [
    "# Câu 2\n",
    "height, width = img.shape[:2]\n",
    "print(f\"Chiều cao: {height}, Chiều rộng: {width}\")"
   ]
  },
  {
   "cell_type": "code",
   "execution_count": 4,
   "id": "c086910d",
   "metadata": {},
   "outputs": [],
   "source": [
    "# Câu 3\n",
    "new_size = (256, 256)\n",
    "img_resized = cv2.resize(img, new_size)\n",
    "cv2.imshow('Resized Image', img_resized)\n",
    "cv2.waitKey(0)\n",
    "cv2.destroyAllWindows()"
   ]
  },
  {
   "cell_type": "code",
   "execution_count": 5,
   "id": "fb899ed4",
   "metadata": {},
   "outputs": [],
   "source": [
    "# Câu 4\n",
    "img_hsv = cv2.cvtColor(img, cv2.COLOR_BGR2HSV)\n",
    "s_channel = img_hsv[:, :, 1]\n",
    "cv2.imshow('S Channel', s_channel)\n",
    "cv2.waitKey(0)\n",
    "cv2.destroyAllWindows()"
   ]
  },
  {
   "cell_type": "code",
   "execution_count": 6,
   "id": "cd7e0960",
   "metadata": {},
   "outputs": [],
   "source": [
    "# Câu 5\n",
    "v_channel = img_hsv[:, :, 2]\n",
    "blurred_v_channel = cv2.GaussianBlur(v_channel, (5, 5), 0)\n",
    "img_smoothed = np.copy(img_hsv)\n",
    "img_smoothed[:, :, 2] = blurred_v_channel\n",
    "img_smoothed_rgb = cv2.cvtColor(img_smoothed, cv2.COLOR_HSV2BGR)\n",
    "cv2.imshow('Smoothed Image', img_smoothed_rgb)\n",
    "cv2.waitKey(0)\n",
    "cv2.destroyAllWindows()"
   ]
  },
  {
   "cell_type": "code",
   "execution_count": null,
   "id": "532f3f0e",
   "metadata": {},
   "outputs": [],
   "source": []
  }
 ],
 "metadata": {
  "kernelspec": {
   "display_name": "Python 3 (ipykernel)",
   "language": "python",
   "name": "python3"
  },
  "language_info": {
   "codemirror_mode": {
    "name": "ipython",
    "version": 3
   },
   "file_extension": ".py",
   "mimetype": "text/x-python",
   "name": "python",
   "nbconvert_exporter": "python",
   "pygments_lexer": "ipython3",
   "version": "3.11.5"
  }
 },
 "nbformat": 4,
 "nbformat_minor": 5
}

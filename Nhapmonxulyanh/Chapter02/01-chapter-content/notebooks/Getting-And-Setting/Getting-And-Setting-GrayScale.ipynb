{
 "cells": [
  {
   "cell_type": "markdown",
   "metadata": {},
   "source": [
    "# Getting and Setting methods in Python Using OpenCV (grayscale images)"
   ]
  },
  {
   "cell_type": "markdown",
   "metadata": {},
   "source": [
    "## Introduction"
   ]
  },
  {
   "cell_type": "markdown",
   "metadata": {},
   "source": [
    "This notebook is going to teach you the basic concepts you will need for accessing and manipulating pixels in images using OpenCV and Python (getting and setting methods) with grayscale images. The test image, which is going to be used in this example, corresponds to the OpenCV logo image. \n",
    "To display an image in notebooks make sure the cell is in Markdown mode and use the following code:\"**![alt text] (imagename.png)**\" - without the blank space before the imagename: This image is displayed next:"
   ]
  },
  {
   "cell_type": "markdown",
   "metadata": {},
   "source": [
    "![OpenCV Logo](logo.png)"
   ]
  },
  {
   "cell_type": "markdown",
   "metadata": {},
   "source": [
    "So, let's start!"
   ]
  },
  {
   "cell_type": "markdown",
   "metadata": {},
   "source": [
    "## Load the image and see the properties of the loaded image"
   ]
  },
  {
   "cell_type": "markdown",
   "metadata": {},
   "source": [
    "First of all, **import** the necessary packages:"
   ]
  },
  {
   "cell_type": "code",
   "execution_count": 37,
   "metadata": {},
   "outputs": [],
   "source": [
    "#import required packages \n",
    "import cv2"
   ]
  },
  {
   "cell_type": "markdown",
   "metadata": {},
   "source": [
    "Next, we load the test image using the function **cv2.imread()**:"
   ]
  },
  {
   "cell_type": "code",
   "execution_count": 38,
   "metadata": {},
   "outputs": [],
   "source": [
    "# Use the function cv2.imread() to read an image.\n",
    "# The image should be in the working directory or a full path of image should be provided.\n",
    "# In this case, the second argument is needed, because we want to load the image in grayscale.\n",
    "# Second argument is a flag which specifies the way image should be read.\n",
    "# Value needed for loading a image in grayscale: 'cv2.IMREAD_GRAYSCALE'.\n",
    "# load OpenCV logo image:\n",
    "gray_img = cv2.imread('logo.png', cv2.IMREAD_GRAYSCALE)"
   ]
  },
  {
   "cell_type": "markdown",
   "metadata": {},
   "source": [
    "We have loaded the image, and it is stored in the variable 'image'.\n",
    "Next, we get the **dimensions** of the image:"
   ]
  },
  {
   "cell_type": "code",
   "execution_count": 39,
   "metadata": {},
   "outputs": [],
   "source": [
    "# To get the dimensions of the image use img.shape\n",
    "# img.shape returns a tuple of number of rows, columns and channels (if image is color)\n",
    "# If image is grayscale, img.shape returns a tuple of number of rows and columns.\n",
    "# So it can be used to check if loaded image is grayscale or color image.\n",
    "# Get the shape of the image (in this case only two components!):\n",
    "dimensions = gray_img.shape"
   ]
  },
  {
   "cell_type": "markdown",
   "metadata": {},
   "source": [
    "The dimensions of the image are stored in the variable 'dimensions'. We **print** to see its values:"
   ]
  },
  {
   "cell_type": "code",
   "execution_count": 40,
   "metadata": {},
   "outputs": [
    {
     "name": "stdout",
     "output_type": "stream",
     "text": [
      "(99, 82)\n"
     ]
    }
   ],
   "source": [
    "# Print the dimensions:\n",
    "print(dimensions)\n",
    "# This will print '(99, 82)'"
   ]
  },
  {
   "cell_type": "markdown",
   "metadata": {},
   "source": [
    "img.shape will return the dimensions of the image in a tuple like this: (99, 82). Therefore, we can also get the dimensions in two independent variables. Hence, next is to get **height and width** of the input image:"
   ]
  },
  {
   "cell_type": "code",
   "execution_count": 41,
   "metadata": {},
   "outputs": [],
   "source": [
    "# img.shape will return the dimensions of the image in a tuple like this: (99, 82)\n",
    "# Therefore, we can also get the dimensions in two independent variables.\n",
    "# Get height and width of the input grayscale image\n",
    "(h, w) = gray_img.shape"
   ]
  },
  {
   "cell_type": "markdown",
   "metadata": {},
   "source": [
    "Now, we can **print** these two variables:"
   ]
  },
  {
   "cell_type": "code",
   "execution_count": 42,
   "metadata": {},
   "outputs": [
    {
     "name": "stdout",
     "output_type": "stream",
     "text": [
      "Dimensions of the image - Height: 99, Width: 82\n"
     ]
    }
   ],
   "source": [
    "# Now, we can print these two variables\n",
    "# Print (h, w) values:\n",
    "print(\"Dimensions of the image - Height: {}, Width: {}\".format(h, w))\n",
    "# This will print 'Dimensions of the image - Height: 99, Width: 82'"
   ]
  },
  {
   "cell_type": "markdown",
   "metadata": {},
   "source": [
    "Now, we can get the total number of elements of the image using **gray_img.size**:"
   ]
  },
  {
   "cell_type": "code",
   "execution_count": 43,
   "metadata": {},
   "outputs": [],
   "source": [
    "# Total number of elements is obtained by img.size:\n",
    "total_number_of_pixels = gray_img.size"
   ]
  },
  {
   "cell_type": "markdown",
   "metadata": {},
   "source": [
    "And print it:"
   ]
  },
  {
   "cell_type": "code",
   "execution_count": 44,
   "metadata": {},
   "outputs": [
    {
     "name": "stdout",
     "output_type": "stream",
     "text": [
      "Total number of elements: 8118\n"
     ]
    }
   ],
   "source": [
    "# Print the total number of elements:\n",
    "print(\"Total number of elements: {}\".format(total_number_of_pixels))\n",
    "# This will print 'Total number of elements: 8118'"
   ]
  },
  {
   "cell_type": "markdown",
   "metadata": {},
   "source": [
    "The total number of pixels is equal to the multiplication of 'height' and 'width'. Let's check it:"
   ]
  },
  {
   "cell_type": "code",
   "execution_count": 45,
   "metadata": {},
   "outputs": [
    {
     "name": "stdout",
     "output_type": "stream",
     "text": [
      "Total number of elements: 8118\n"
     ]
    }
   ],
   "source": [
    "# The total number of pixels is equal to the multiplication of 'height', 'width' and 'channels':\n",
    "print(\"Total number of elements: {}\".format(h * w))\n",
    "# This will print 'Total number of elements: 8118'"
   ]
  },
  {
   "cell_type": "markdown",
   "metadata": {},
   "source": [
    "Let's check now the image datatype, obtained by **gray_img.dtype**:"
   ]
  },
  {
   "cell_type": "code",
   "execution_count": 46,
   "metadata": {},
   "outputs": [],
   "source": [
    "# Image datatype is obtained by img.dtype.\n",
    "# gray_img.dtype is very important because a large number of errors is caused by invalid datatype.\n",
    "# Get the image datatype:\n",
    "image_dtype = gray_img.dtype"
   ]
  },
  {
   "cell_type": "markdown",
   "metadata": {},
   "source": [
    "And print 'image_dtype':"
   ]
  },
  {
   "cell_type": "code",
   "execution_count": 47,
   "metadata": {},
   "outputs": [
    {
     "name": "stdout",
     "output_type": "stream",
     "text": [
      "Image datatype: uint8\n"
     ]
    }
   ],
   "source": [
    "# Print the image datatype:\n",
    "print(\"Image datatype: {}\".format(image_dtype))\n",
    "# This should print 'Image datatype: uint8'\n",
    "# (uint8) = unsigned char"
   ]
  },
  {
   "cell_type": "markdown",
   "metadata": {},
   "source": [
    "To sum up, we have seen: 1) img.shape, 2) img.size, 3) img.dtype and additionally, how to load an image."
   ]
  },
  {
   "cell_type": "markdown",
   "metadata": {},
   "source": [
    "## Display an image with both OpenCV and matplotlib"
   ]
  },
  {
   "cell_type": "markdown",
   "metadata": {},
   "source": [
    "Now, let's see how to show an image. We are going to use the function **cv2.imshow()** to show an image in a window:"
   ]
  },
  {
   "cell_type": "code",
   "execution_count": null,
   "metadata": {},
   "outputs": [],
   "source": [
    "# Use the function cv2.imshow() to show an image in a window.\n",
    "# The window automatically fits to the image size.\n",
    "# First argument is the window name.\n",
    "# Second argument is the image to be displayed.\n",
    "# Each created window should have different window names.\n",
    "\n",
    "# If you run an interactive ipython session, and want to use highgui windows, do cv2.startWindowThread() first.\n",
    "cv2.startWindowThread()\n",
    "# Show original image:\n",
    "cv2.imshow(\"original image\", gray_img)\n",
    "# cv2.waitKey() is a keyboard binding function.\n",
    "# The argument is the time in milliseconds.\n",
    "# The function waits for specified milliseconds for any keyboard event.\n",
    "# If any key is pressed in that time, the program continues.\n",
    "# If 0 is passed, it waits indefinitely for a key stroke.\n",
    "# Wait indefinitely for a key stroke (in order to see the created window):\n",
    "cv2.waitKey(0)\n",
    "cv2.destroyAllWindows()"
   ]
  },
  {
   "cell_type": "markdown",
   "metadata": {},
   "source": [
    "You will see a window displaying the loaded image. To close it, you should press any key because 'cv2.waitKey(0)' is waiting indefinitely for a key stroke. "
   ]
  },
  {
   "cell_type": "markdown",
   "metadata": {},
   "source": [
    "However, another option is displaying the images using **matplotlib** package. Therefore, to work with matplotlib, we have to load the package before using it:"
   ]
  },
  {
   "cell_type": "code",
   "execution_count": null,
   "metadata": {},
   "outputs": [],
   "source": [
    "#import matplotlib library\n",
    "import matplotlib.pyplot as plt"
   ]
  },
  {
   "cell_type": "code",
   "execution_count": 73,
   "metadata": {},
   "outputs": [
    {
     "data": {
      "text/plain": [
       "<matplotlib.image.AxesImage at 0x9972e90>"
      ]
     },
     "execution_count": 73,
     "metadata": {},
     "output_type": "execute_result"
    },
    {
     "data": {
      "image/png": "[encoded data removed]",
      "text/plain": [
       "<Figure size 640x480 with 1 Axes>"
      ]
     },
     "metadata": {},
     "output_type": "display_data"
    }
   ],
   "source": [
    "plt.imshow(gray_img, cmap='gray')"
   ]
  },
  {
   "cell_type": "markdown",
   "metadata": {},
   "source": [
    "## Accesing to an specific pixel of the image (getting)"
   ]
  },
  {
   "cell_type": "markdown",
   "metadata": {},
   "source": [
    "Now we will see how to access to an specific pixel of the image. We can access a pixel value by row and column coordinates. For BGR image, it returns an array of (Blue, Green, Red) values and for RGB image, it retuns an array of (Red, Green, Blue) values. Therefore, we will check it. First, we will get an specific pixel of the BGR image:"
   ]
  },
  {
   "cell_type": "code",
   "execution_count": 74,
   "metadata": {},
   "outputs": [],
   "source": [
    "# You can access a pixel value by row and column coordinates.\n",
    "# For BGR image, it returns an array of (Blue, Green, Red) values.\n",
    "# Get the value of the pixel (x=40, y=6):\n",
    "i = gray_img[6, 40]"
   ]
  },
  {
   "cell_type": "markdown",
   "metadata": {},
   "source": [
    "We print the intensity value:"
   ]
  },
  {
   "cell_type": "code",
   "execution_count": 76,
   "metadata": {},
   "outputs": [
    {
     "name": "stdout",
     "output_type": "stream",
     "text": [
      "Pixel at (6,40) - Intensity: 255\n"
     ]
    }
   ],
   "source": [
    "# Print the value:\n",
    "print(\"Pixel at (6,40) - Intensity: {}\".format(i))\n",
    "# This will print 'Pixel at (6,40) - Intensity: 88'"
   ]
  },
  {
   "cell_type": "markdown",
   "metadata": {},
   "source": [
    "## Modifying the pixel values of the image (setting)"
   ]
  },
  {
   "cell_type": "markdown",
   "metadata": {},
   "source": [
    "We are going to see how to modify the pixel values of the image in the same way:"
   ]
  },
  {
   "cell_type": "code",
   "execution_count": 77,
   "metadata": {},
   "outputs": [
    {
     "name": "stdout",
     "output_type": "stream",
     "text": [
      "Pixel at (6,40) - Intensity: 0\n"
     ]
    }
   ],
   "source": [
    "# You can modify the pixel values of the image in the same way.\n",
    "# Set the pixel to black:\n",
    "gray_img[6, 40] = 0\n",
    "\n",
    "# Get the value of the pixel (x=40, y=6) after modifying it\n",
    "i = gray_img[6, 40]\n",
    "\n",
    "# Print the value:\n",
    "print(\"Pixel at (6,40) - Intensity: {}\".format(i))\n",
    "# This will print 'Pixel at (6,40) - Intensity: 0'"
   ]
  },
  {
   "cell_type": "markdown",
   "metadata": {},
   "source": [
    "Sometimes, you will have to play with certain region of images rather than one pixel at a time. In this case, we get the top left corner of the image."
   ]
  },
  {
   "cell_type": "code",
   "execution_count": 82,
   "metadata": {},
   "outputs": [],
   "source": [
    "# Sometimes, you will have to play with certain region of images rather than one pixel at a time\n",
    "# In this case, we get the top left corner of the image:\n",
    "top_left_corner = gray_img[0:50, 0:50]"
   ]
  },
  {
   "cell_type": "markdown",
   "metadata": {},
   "source": [
    "Now, we show this ROI (Region Of Interest) with matplotlib:"
   ]
  },
  {
   "cell_type": "code",
   "execution_count": 83,
   "metadata": {},
   "outputs": [
    {
     "data": {
      "text/plain": [
       "<matplotlib.image.AxesImage at 0x9a3afd0>"
      ]
     },
     "execution_count": 83,
     "metadata": {},
     "output_type": "execute_result"
    },
    {
     "data": {
      "image/png": "[encoded data removed]",
      "text/plain": [
       "<Figure size 640x480 with 1 Axes>"
      ]
     },
     "metadata": {},
     "output_type": "display_data"
    }
   ],
   "source": [
    "# We show this ROI:\n",
    "plt.imshow(top_left_corner,cmap='gray')"
   ]
  },
  {
   "cell_type": "markdown",
   "metadata": {},
   "source": [
    "We can, for example, copy this ROI into another region of the image:"
   ]
  },
  {
   "cell_type": "code",
   "execution_count": 66,
   "metadata": {},
   "outputs": [],
   "source": [
    "# Copy this ROI into another region of the image:\n",
    "gray_img[20:70, 20:70] = top_left_corner"
   ]
  },
  {
   "cell_type": "markdown",
   "metadata": {},
   "source": [
    "And show the modified image  with matplotlib:"
   ]
  },
  {
   "cell_type": "code",
   "execution_count": 67,
   "metadata": {},
   "outputs": [
    {
     "data": {
      "text/plain": [
       "<matplotlib.image.AxesImage at 0x12272fd0>"
      ]
     },
     "execution_count": 67,
     "metadata": {},
     "output_type": "execute_result"
    },
    {
     "data": {
      "image/png": "[encoded data removed]",
      "text/plain": [
       "<Figure size 640x480 with 1 Axes>"
      ]
     },
     "metadata": {},
     "output_type": "display_data"
    }
   ],
   "source": [
    "# We show the modified image\n",
    "plt.imshow(gray_img, cmap='gray')"
   ]
  },
  {
   "cell_type": "markdown",
   "metadata": {},
   "source": [
    "We can, for example, print the left corner of the image to white:"
   ]
  },
  {
   "cell_type": "code",
   "execution_count": 68,
   "metadata": {},
   "outputs": [],
   "source": [
    "# Set top left corner of the image to white\n",
    "gray_img[0:50, 0:50] = 255"
   ]
  },
  {
   "cell_type": "code",
   "execution_count": 69,
   "metadata": {},
   "outputs": [
    {
     "data": {
      "text/plain": [
       "<matplotlib.image.AxesImage at 0xddd83d0>"
      ]
     },
     "execution_count": 69,
     "metadata": {},
     "output_type": "execute_result"
    },
    {
     "data": {
      "image/png": "[encoded data removed]",
      "text/plain": [
       "<Figure size 640x480 with 1 Axes>"
      ]
     },
     "metadata": {},
     "output_type": "display_data"
    }
   ],
   "source": [
    "# We show the modified image\n",
    "plt.imshow(gray_img, cmap='gray')"
   ]
  },
  {
   "cell_type": "markdown",
   "metadata": {},
   "source": [
    "## Conclusions"
   ]
  },
  {
   "cell_type": "markdown",
   "metadata": {},
   "source": [
    "In this notebook we have learnt how to load and display images with OpenCV. Additionally, we have also covered how to see the properties of the loaded image. Finally, accessing and modifying pixels of an image are also two important topics that are also covered. "
   ]
  },
  {
   "cell_type": "code",
   "execution_count": 70,
   "metadata": {},
   "outputs": [
    {
     "data": {
      "text/plain": [
       "<matplotlib.image.AxesImage at 0x9ae8290>"
      ]
     },
     "execution_count": 70,
     "metadata": {},
     "output_type": "execute_result"
    },
    {
     "data": {
      "image/png": "[encoded data removed]",
      "text/plain": [
       "<Figure size 640x480 with 1 Axes>"
      ]
     },
     "metadata": {},
     "output_type": "display_data"
    }
   ],
   "source": [
    "plt.imshow(top_left_corner,cmap='gray')"
   ]
  },
  {
   "cell_type": "code",
   "execution_count": null,
   "metadata": {},
   "outputs": [],
   "source": []
  }
 ],
 "metadata": {
  "kernelspec": {
   "display_name": "Python 3 (ipykernel)",
   "language": "python",
   "name": "python3"
  },
  "language_info": {
   "codemirror_mode": {
    "name": "ipython",
    "version": 3
   },
   "file_extension": ".py",
   "mimetype": "text/x-python",
   "name": "python",
   "nbconvert_exporter": "python",
   "pygments_lexer": "ipython3",
   "version": "3.11.5"
  }
 },
 "nbformat": 4,
 "nbformat_minor": 2
}
